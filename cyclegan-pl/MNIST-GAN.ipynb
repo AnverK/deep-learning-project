{
 "cells": [
  {
   "cell_type": "code",
   "execution_count": 26,
   "metadata": {},
   "outputs": [],
   "source": [
    "from pl_bolts.models.gans import GAN\n",
    "from pl_bolts.datamodules.mnist_datamodule import MNISTDataModule\n",
    "\n",
    "import pytorch_lightning as pl\n",
    "\n",
    "import torch\n",
    "from skimage import io\n",
    "\n",
    "import torch.nn as  nn\n",
    "\n",
    "import types\n",
    "from typing import Callable\n",
    "from torchvision import transforms as transform_lib"
   ]
  },
  {
   "cell_type": "code",
   "execution_count": 27,
   "metadata": {},
   "outputs": [],
   "source": [
    "%load_ext autoreload\n",
    "%autoreload 2"
   ]
  },
  {
   "cell_type": "code",
   "execution_count": 28,
   "metadata": {},
   "outputs": [
    {
     "name": "stderr",
     "output_type": "stream",
     "text": [
      "Global seed set to 42\n"
     ]
    },
    {
     "data": {
      "text/plain": [
       "42"
      ]
     },
     "execution_count": 28,
     "metadata": {},
     "output_type": "execute_result"
    }
   ],
   "source": [
    "pl.seed_everything(42)"
   ]
  },
  {
   "cell_type": "code",
   "execution_count": 29,
   "metadata": {},
   "outputs": [],
   "source": [
    "def show_image(image: torch.Tensor):\n",
    "    io.imshow(image.detach().permute(1, 2, 0).numpy())"
   ]
  },
  {
   "cell_type": "code",
   "execution_count": 30,
   "metadata": {},
   "outputs": [],
   "source": [
    "dm = MNISTDataModule(\n",
    "    './MNIST/',\n",
    "    0.1,\n",
    "    4,\n",
    "    True,\n",
    "    300,\n",
    "    shuffle=True,\n",
    "    pin_memory=True,\n",
    "    drop_last=True,\n",
    ")"
   ]
  },
  {
   "cell_type": "code",
   "execution_count": 31,
   "metadata": {},
   "outputs": [],
   "source": [
    "dm.setup()"
   ]
  },
  {
   "cell_type": "code",
   "execution_count": 32,
   "metadata": {},
   "outputs": [],
   "source": [
    "m = GAN(1, 28, 28)"
   ]
  },
  {
   "cell_type": "code",
   "execution_count": 37,
   "metadata": {},
   "outputs": [
    {
     "name": "stderr",
     "output_type": "stream",
     "text": [
      "GPU available: True, used: True\n",
      "TPU available: False, using: 0 TPU cores\n",
      "IPU available: False, using: 0 IPUs\n"
     ]
    }
   ],
   "source": [
    "trainer = pl.Trainer(\n",
    "    gpus=1,\n",
    "    auto_select_gpus=True,\n",
    "    benchmark=True,\n",
    "    max_epochs=500\n",
    ")"
   ]
  },
  {
   "cell_type": "code",
   "execution_count": 38,
   "metadata": {},
   "outputs": [
    {
     "name": "stderr",
     "output_type": "stream",
     "text": [
      "LOCAL_RANK: 0 - CUDA_VISIBLE_DEVICES: [0]\n",
      "\n",
      "  | Name          | Type          | Params\n",
      "------------------------------------------------\n",
      "0 | generator     | Generator     | 1.5 M \n",
      "1 | discriminator | Discriminator | 1.5 M \n",
      "------------------------------------------------\n",
      "2.9 M     Trainable params\n",
      "0         Non-trainable params\n",
      "2.9 M     Total params\n",
      "11.717    Total estimated model params size (MB)\n"
     ]
    },
    {
     "data": {
      "application/vnd.jupyter.widget-view+json": {
       "model_id": "f88bb134f5c647a386187fb839a1cc82",
       "version_major": 2,
       "version_minor": 0
      },
      "text/plain": [
       "Training: -1it [00:00, ?it/s]"
      ]
     },
     "metadata": {},
     "output_type": "display_data"
    },
    {
     "name": "stdout",
     "output_type": "stream",
     "text": [
      "CPU times: user 26min 22s, sys: 2min 44s, total: 29min 6s\n",
      "Wall time: 37min 15s\n"
     ]
    }
   ],
   "source": [
    "%%time\n",
    "trainer.fit(m, dm)"
   ]
  },
  {
   "cell_type": "code",
   "execution_count": 98,
   "metadata": {},
   "outputs": [],
   "source": [
    "z = torch.rand(32, 32)"
   ]
  },
  {
   "cell_type": "code",
   "execution_count": 99,
   "metadata": {},
   "outputs": [],
   "source": [
    "x = m(z)"
   ]
  },
  {
   "cell_type": "code",
   "execution_count": 115,
   "metadata": {},
   "outputs": [],
   "source": [
    "i = 10"
   ]
  },
  {
   "cell_type": "code",
   "execution_count": 116,
   "metadata": {},
   "outputs": [
    {
     "data": {
      "image/png": "[encoded data removed]",
      "image/svg+xml": "<?xml version=\"1.0\" encoding=\"utf-8\" standalone=\"no\"?>\n<!DOCTYPE svg PUBLIC \"-//W3C//DTD SVG 1.1//EN\"\n  \"http://www.w3.org/Graphics/SVG/1.1/DTD/svg11.dtd\">\n<svg height=\"280.360982pt\" version=\"1.1\" viewBox=\"0 0 283.407857 280.360982\" width=\"283.407857pt\" xmlns=\"http://www.w3.org/2000/svg\" xmlns:xlink=\"http://www.w3.org/1999/xlink\">\n <metadata>\n  <rdf:RDF xmlns:cc=\"http://creativecommons.org/ns#\" xmlns:dc=\"http://purl.org/dc/elements/1.1/\" xmlns:rdf=\"http://www.w3.org/1999/02/22-rdf-syntax-ns#\">\n   <cc:Work>\n    <dc:type rdf:resource=\"http://purl.org/dc/dcmitype/StillImage\"/>\n    <dc:date>2021-11-09T18:09:26.084918</dc:date>\n    <dc:format>image/svg+xml</dc:format>\n    <dc:creator>\n     <cc:Agent>\n      <dc:title>Matplotlib v3.4.3, https://matplotlib.org/</dc:title>\n     </cc:Agent>\n    </dc:creator>\n   </cc:Work>\n  </rdf:RDF>\n </metadata>\n <defs>\n  <style type=\"text/css\">*{stroke-linecap:butt;stroke-linejoin:round;}</style>\n </defs>\n <g id=\"figure_1\">\n  <g id=\"patch_1\">\n   <path d=\"M 0 280.360982 \nL 283.407857 280.360982 \nL 283.407857 0 \nL 0 0 \nz\n\" style=\"fill:none;\"/>\n  </g>\n  <g id=\"axes_1\">\n   <g id=\"patch_2\">\n    <path d=\"M 26.925 256.482857 \nL 276.207857 256.482857 \nL 276.207857 7.2 \nL 26.925 7.2 \nz\n\" style=\"fill:#ffffff;\"/>\n   </g>\n   <g clip-path=\"url(#p9fc2414ee9)\">\n    <image height=\"250\" id=\"imagee16a4855d9\" transform=\"scale(1 -1)translate(0 -250)\" width=\"250\" x=\"26.925\" xlink:href=\"data:image/png;base64,\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\" y=\"-6.482857\"/>\n   </g>\n   <g id=\"matplotlib.axis_1\">\n    <g id=\"xtick_1\">\n     <g id=\"line2d_1\">\n      <defs>\n       <path d=\"M 0 0 \nL 0 3.5 \n\" id=\"m99a819be2d\" style=\"stroke:#000000;stroke-width:0.8;\"/>\n      </defs>\n      <g>\n       <use style=\"stroke:#000000;stroke-width:0.8;\" x=\"31.37648\" xlink:href=\"#m99a819be2d\" y=\"256.482857\"/>\n      </g>\n     </g>\n     <g id=\"text_1\">\n      <!-- 0 -->\n      <g transform=\"translate(28.19523 271.081295)scale(0.1 -0.1)\">\n       <defs>\n        <path d=\"M 2034 4250 \nQ 1547 4250 1301 3770 \nQ 1056 3291 1056 2328 \nQ 1056 1369 1301 889 \nQ 1547 409 2034 409 \nQ 2525 409 2770 889 \nQ 3016 1369 3016 2328 \nQ 3016 3291 2770 3770 \nQ 2525 4250 2034 4250 \nz\nM 2034 4750 \nQ 2819 4750 3233 4129 \nQ 3647 3509 3647 2328 \nQ 3647 1150 3233 529 \nQ 2819 -91 2034 -91 \nQ 1250 -91 836 529 \nQ 422 1150 422 2328 \nQ 422 3509 836 4129 \nQ 1250 4750 2034 4750 \nz\n\" id=\"DejaVuSans-30\" transform=\"scale(0.015625)\"/>\n       </defs>\n       <use xlink:href=\"#DejaVuSans-30\"/>\n      </g>\n     </g>\n    </g>\n    <g id=\"xtick_2\">\n     <g id=\"line2d_2\">\n      <g>\n       <use style=\"stroke:#000000;stroke-width:0.8;\" x=\"75.891276\" xlink:href=\"#m99a819be2d\" y=\"256.482857\"/>\n      </g>\n     </g>\n     <g id=\"text_2\">\n      <!-- 5 -->\n      <g transform=\"translate(72.710026 271.081295)scale(0.1 -0.1)\">\n       <defs>\n        <path d=\"M 691 4666 \nL 3169 4666 \nL 3169 4134 \nL 1269 4134 \nL 1269 2991 \nQ 1406 3038 1543 3061 \nQ 1681 3084 1819 3084 \nQ 2600 3084 3056 2656 \nQ 3513 2228 3513 1497 \nQ 3513 744 3044 326 \nQ 2575 -91 1722 -91 \nQ 1428 -91 1123 -41 \nQ 819 9 494 109 \nL 494 744 \nQ 775 591 1075 516 \nQ 1375 441 1709 441 \nQ 2250 441 2565 725 \nQ 2881 1009 2881 1497 \nQ 2881 1984 2565 2268 \nQ 2250 2553 1709 2553 \nQ 1456 2553 1204 2497 \nQ 953 2441 691 2322 \nL 691 4666 \nz\n\" id=\"DejaVuSans-35\" transform=\"scale(0.015625)\"/>\n       </defs>\n       <use xlink:href=\"#DejaVuSans-35\"/>\n      </g>\n     </g>\n    </g>\n    <g id=\"xtick_3\">\n     <g id=\"line2d_3\">\n      <g>\n       <use style=\"stroke:#000000;stroke-width:0.8;\" x=\"120.406071\" xlink:href=\"#m99a819be2d\" y=\"256.482857\"/>\n      </g>\n     </g>\n     <g id=\"text_3\">\n      <!-- 10 -->\n      <g transform=\"translate(114.043571 271.081295)scale(0.1 -0.1)\">\n       <defs>\n        <path d=\"M 794 531 \nL 1825 531 \nL 1825 4091 \nL 703 3866 \nL 703 4441 \nL 1819 4666 \nL 2450 4666 \nL 2450 531 \nL 3481 531 \nL 3481 0 \nL 794 0 \nL 794 531 \nz\n\" id=\"DejaVuSans-31\" transform=\"scale(0.015625)\"/>\n       </defs>\n       <use xlink:href=\"#DejaVuSans-31\"/>\n       <use x=\"63.623047\" xlink:href=\"#DejaVuSans-30\"/>\n      </g>\n     </g>\n    </g>\n    <g id=\"xtick_4\">\n     <g id=\"line2d_4\">\n      <g>\n       <use style=\"stroke:#000000;stroke-width:0.8;\" x=\"164.920867\" xlink:href=\"#m99a819be2d\" y=\"256.482857\"/>\n      </g>\n     </g>\n     <g id=\"text_4\">\n      <!-- 15 -->\n      <g transform=\"translate(158.558367 271.081295)scale(0.1 -0.1)\">\n       <use xlink:href=\"#DejaVuSans-31\"/>\n       <use x=\"63.623047\" xlink:href=\"#DejaVuSans-35\"/>\n      </g>\n     </g>\n    </g>\n    <g id=\"xtick_5\">\n     <g id=\"line2d_5\">\n      <g>\n       <use style=\"stroke:#000000;stroke-width:0.8;\" x=\"209.435663\" xlink:href=\"#m99a819be2d\" y=\"256.482857\"/>\n      </g>\n     </g>\n     <g id=\"text_5\">\n      <!-- 20 -->\n      <g transform=\"translate(203.073163 271.081295)scale(0.1 -0.1)\">\n       <defs>\n        <path d=\"M 1228 531 \nL 3431 531 \nL 3431 0 \nL 469 0 \nL 469 531 \nQ 828 903 1448 1529 \nQ 2069 2156 2228 2338 \nQ 2531 2678 2651 2914 \nQ 2772 3150 2772 3378 \nQ 2772 3750 2511 3984 \nQ 2250 4219 1831 4219 \nQ 1534 4219 1204 4116 \nQ 875 4013 500 3803 \nL 500 4441 \nQ 881 4594 1212 4672 \nQ 1544 4750 1819 4750 \nQ 2544 4750 2975 4387 \nQ 3406 4025 3406 3419 \nQ 3406 3131 3298 2873 \nQ 3191 2616 2906 2266 \nQ 2828 2175 2409 1742 \nQ 1991 1309 1228 531 \nz\n\" id=\"DejaVuSans-32\" transform=\"scale(0.015625)\"/>\n       </defs>\n       <use xlink:href=\"#DejaVuSans-32\"/>\n       <use x=\"63.623047\" xlink:href=\"#DejaVuSans-30\"/>\n      </g>\n     </g>\n    </g>\n    <g id=\"xtick_6\">\n     <g id=\"line2d_6\">\n      <g>\n       <use style=\"stroke:#000000;stroke-width:0.8;\" x=\"253.950459\" xlink:href=\"#m99a819be2d\" y=\"256.482857\"/>\n      </g>\n     </g>\n     <g id=\"text_6\">\n      <!-- 25 -->\n      <g transform=\"translate(247.587959 271.081295)scale(0.1 -0.1)\">\n       <use xlink:href=\"#DejaVuSans-32\"/>\n       <use x=\"63.623047\" xlink:href=\"#DejaVuSans-35\"/>\n      </g>\n     </g>\n    </g>\n   </g>\n   <g id=\"matplotlib.axis_2\">\n    <g id=\"ytick_1\">\n     <g id=\"line2d_7\">\n      <defs>\n       <path d=\"M 0 0 \nL -3.5 0 \n\" id=\"m90bb46a46b\" style=\"stroke:#000000;stroke-width:0.8;\"/>\n      </defs>\n      <g>\n       <use style=\"stroke:#000000;stroke-width:0.8;\" x=\"26.925\" xlink:href=\"#m90bb46a46b\" y=\"11.65148\"/>\n      </g>\n     </g>\n     <g id=\"text_7\">\n      <!-- 0 -->\n      <g transform=\"translate(13.5625 15.450698)scale(0.1 -0.1)\">\n       <use xlink:href=\"#DejaVuSans-30\"/>\n      </g>\n     </g>\n    </g>\n    <g id=\"ytick_2\">\n     <g id=\"line2d_8\">\n      <g>\n       <use style=\"stroke:#000000;stroke-width:0.8;\" x=\"26.925\" xlink:href=\"#m90bb46a46b\" y=\"56.166276\"/>\n      </g>\n     </g>\n     <g id=\"text_8\">\n      <!-- 5 -->\n      <g transform=\"translate(13.5625 59.965494)scale(0.1 -0.1)\">\n       <use xlink:href=\"#DejaVuSans-35\"/>\n      </g>\n     </g>\n    </g>\n    <g id=\"ytick_3\">\n     <g id=\"line2d_9\">\n      <g>\n       <use style=\"stroke:#000000;stroke-width:0.8;\" x=\"26.925\" xlink:href=\"#m90bb46a46b\" y=\"100.681071\"/>\n      </g>\n     </g>\n     <g id=\"text_9\">\n      <!-- 10 -->\n      <g transform=\"translate(7.2 104.48029)scale(0.1 -0.1)\">\n       <use xlink:href=\"#DejaVuSans-31\"/>\n       <use x=\"63.623047\" xlink:href=\"#DejaVuSans-30\"/>\n      </g>\n     </g>\n    </g>\n    <g id=\"ytick_4\">\n     <g id=\"line2d_10\">\n      <g>\n       <use style=\"stroke:#000000;stroke-width:0.8;\" x=\"26.925\" xlink:href=\"#m90bb46a46b\" y=\"145.195867\"/>\n      </g>\n     </g>\n     <g id=\"text_10\">\n      <!-- 15 -->\n      <g transform=\"translate(7.2 148.995086)scale(0.1 -0.1)\">\n       <use xlink:href=\"#DejaVuSans-31\"/>\n       <use x=\"63.623047\" xlink:href=\"#DejaVuSans-35\"/>\n      </g>\n     </g>\n    </g>\n    <g id=\"ytick_5\">\n     <g id=\"line2d_11\">\n      <g>\n       <use style=\"stroke:#000000;stroke-width:0.8;\" x=\"26.925\" xlink:href=\"#m90bb46a46b\" y=\"189.710663\"/>\n      </g>\n     </g>\n     <g id=\"text_11\">\n      <!-- 20 -->\n      <g transform=\"translate(7.2 193.509882)scale(0.1 -0.1)\">\n       <use xlink:href=\"#DejaVuSans-32\"/>\n       <use x=\"63.623047\" xlink:href=\"#DejaVuSans-30\"/>\n      </g>\n     </g>\n    </g>\n    <g id=\"ytick_6\">\n     <g id=\"line2d_12\">\n      <g>\n       <use style=\"stroke:#000000;stroke-width:0.8;\" x=\"26.925\" xlink:href=\"#m90bb46a46b\" y=\"234.225459\"/>\n      </g>\n     </g>\n     <g id=\"text_12\">\n      <!-- 25 -->\n      <g transform=\"translate(7.2 238.024678)scale(0.1 -0.1)\">\n       <use xlink:href=\"#DejaVuSans-32\"/>\n       <use x=\"63.623047\" xlink:href=\"#DejaVuSans-35\"/>\n      </g>\n     </g>\n    </g>\n   </g>\n   <g id=\"patch_3\">\n    <path d=\"M 26.925 256.482857 \nL 26.925 7.2 \n\" style=\"fill:none;stroke:#000000;stroke-linecap:square;stroke-linejoin:miter;stroke-width:0.8;\"/>\n   </g>\n   <g id=\"patch_4\">\n    <path d=\"M 276.207857 256.482857 \nL 276.207857 7.2 \n\" style=\"fill:none;stroke:#000000;stroke-linecap:square;stroke-linejoin:miter;stroke-width:0.8;\"/>\n   </g>\n   <g id=\"patch_5\">\n    <path d=\"M 26.925 256.482857 \nL 276.207857 256.482857 \n\" style=\"fill:none;stroke:#000000;stroke-linecap:square;stroke-linejoin:miter;stroke-width:0.8;\"/>\n   </g>\n   <g id=\"patch_6\">\n    <path d=\"M 26.925 7.2 \nL 276.207857 7.2 \n\" style=\"fill:none;stroke:#000000;stroke-linecap:square;stroke-linejoin:miter;stroke-width:0.8;\"/>\n   </g>\n  </g>\n </g>\n <defs>\n  <clipPath id=\"p9fc2414ee9\">\n   <rect height=\"249.282857\" width=\"249.282857\" x=\"26.925\" y=\"7.2\"/>\n  </clipPath>\n </defs>\n</svg>\n",
      "text/plain": [
       "<Figure size 432x288 with 1 Axes>"
      ]
     },
     "metadata": {
      "needs_background": "light"
     },
     "output_type": "display_data"
    }
   ],
   "source": [
    "show_image((x[i] + 1) / (x[i] + 1).max())"
   ]
  }
 ],
 "metadata": {
  "interpreter": {
   "hash": "afb0178283dd4e957112d06a742b919dd70897ec7dfba33670c0b530c28dd0ad"
  },
  "kernelspec": {
   "display_name": "Python 3.8.5 64-bit ('cyclegan': virtualenv)",
   "name": "python3"
  },
  "language_info": {
   "codemirror_mode": {
    "name": "ipython",
    "version": 3
   },
   "file_extension": ".py",
   "mimetype": "text/x-python",
   "name": "python",
   "nbconvert_exporter": "python",
   "pygments_lexer": "ipython3",
   "version": "3.8.5"
  },
  "orig_nbformat": 4
 },
 "nbformat": 4,
 "nbformat_minor": 2
}
