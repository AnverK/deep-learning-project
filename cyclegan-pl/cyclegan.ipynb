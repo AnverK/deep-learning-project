{
 "cells": [
  {
   "cell_type": "code",
   "execution_count": 17,
   "metadata": {},
   "outputs": [],
   "source": [
    "import pytorch_lightning as pl\n",
    "from skimage import io\n",
    "from skimage.io import ImageCollection\n",
    "\n",
    "import torch\n",
    "\n",
    "from typing import Optional\n",
    "from torch.utils.data import random_split, DataLoader, Dataset, TensorDataset, ConcatDataset\n",
    "\n",
    "import torchvision\n",
    "from torchvision.datasets import ImageFolder\n",
    "\n",
    "import os\n",
    "from typing import Any, Callable, List, Optional, Tuple\n",
    "\n",
    "import torchvision.transforms as transforms\n",
    "import torchvision.transforms.functional as TVF\n",
    "\n",
    "from networks import *"
   ]
  },
  {
   "cell_type": "code",
   "execution_count": 18,
   "metadata": {},
   "outputs": [],
   "source": [
    "%load_ext autoreload\n",
    "%autoreload 2"
   ]
  },
  {
   "cell_type": "code",
   "execution_count": 2,
   "metadata": {},
   "outputs": [
    {
     "name": "stderr",
     "output_type": "stream",
     "text": [
      "Global seed set to 42\n"
     ]
    },
    {
     "data": {
      "text/plain": [
       "42"
      ]
     },
     "execution_count": 2,
     "metadata": {},
     "output_type": "execute_result"
    }
   ],
   "source": [
    "pl.seed_everything(42)"
   ]
  },
  {
   "cell_type": "code",
   "execution_count": 3,
   "metadata": {},
   "outputs": [],
   "source": [
    "def show_image(image: torch.Tensor):\n",
    "    io.imshow(image.permute(1, 2, 0).numpy())"
   ]
  },
  {
   "cell_type": "code",
   "execution_count": 4,
   "metadata": {},
   "outputs": [],
   "source": [
    "class UnpairedDataSet(Dataset):\n",
    "    def __init__(self, data_dir: str, dirA: str, dirB: str):\n",
    "        super().__init__()\n",
    "\n",
    "        self.imagesA = ImageCollection([f'{data_dir}/{dirA}/*.jpg', f'{data_dir}/{dirA}/*.png'])\n",
    "        self.imagesB = ImageCollection([f'{data_dir}/{dirB}/*.jpg', f'{data_dir}/{dirB}/*.png'])\n",
    "\n",
    "        self.transforms = transforms.Compose([\n",
    "                transforms.ToTensor()\n",
    "        ])\n",
    "\n",
    "    def __len__(self):\n",
    "        return max(len(self.imagesA), len(self.imagesB))\n",
    "\n",
    "    def __getitem__(self, index: int):\n",
    "        return { \n",
    "            'A': self.transforms(self.imagesA[index % self.__len__()]),\n",
    "            'B': self.transforms(self.imagesB[index % self.__len__()])\n",
    "        }"
   ]
  },
  {
   "cell_type": "code",
   "execution_count": 5,
   "metadata": {},
   "outputs": [],
   "source": [
    "class UnpairedDataModule(pl.LightningDataModule):\n",
    "    def __init__(self, data_dir: str = 'data', trainA: str = 'trainA', trainB: str = 'trainB', testA: str = 'testA', testB: str = 'testB', train_frac=0.9, batch_size=4, num_workers=4):\n",
    "        super().__init__()\n",
    "\n",
    "        self.data_dir = data_dir\n",
    "\n",
    "        self.trainA = trainA\n",
    "        self.trainB = trainB\n",
    "        self.testA = testA\n",
    "        self.testB = testB\n",
    "\n",
    "        self.train_frac = train_frac\n",
    "        self.batch_size = batch_size\n",
    "        self.num_workers = num_workers\n",
    "\n",
    "        self.transforms = None\n",
    "\n",
    "    def setup(self, stage: Optional[str] = None):\n",
    "        if stage in (None, 'fit'):     \n",
    "            fit_dataset = UnpairedDataSet(self.data_dir, self.trainA, self.trainB)\n",
    "\n",
    "            train_size = int(len(fit_dataset) * self.train_frac)\n",
    "            valid_size = len(fit_dataset) - train_size\n",
    "\n",
    "            self.train, self.valid = random_split(fit_dataset, [train_size, valid_size])\n",
    "\n",
    "        if stage in (None, 'test'):\n",
    "            pass\n",
    "\n",
    "    def train_dataloader(self):\n",
    "        return DataLoader(\n",
    "            self.train, \n",
    "            batch_size=self.batch_size,\n",
    "            shuffle=True,\n",
    "            num_workers=self.num_workers,\n",
    "            pin_memory=True,\n",
    "            drop_last=True\n",
    "        )\n",
    "\n",
    "    def val_dataloader(self):\n",
    "        return DataLoader(\n",
    "            self.train, \n",
    "            batch_size=self.batch_size,\n",
    "            shuffle=False,\n",
    "            num_workers=self.num_workers,\n",
    "            pin_memory=True,\n",
    "            drop_last=True\n",
    "        )\n",
    "\n",
    "    def test_dataloader(self):\n",
    "        return DataLoader(\n",
    "            self.test, \n",
    "            batch_size=self.batch_size,\n",
    "            shuffle=False,\n",
    "            num_workers=self.num_workers,\n",
    "            pin_memory=True,\n",
    "            drop_last=False\n",
    "        )"
   ]
  },
  {
   "cell_type": "code",
   "execution_count": 6,
   "metadata": {},
   "outputs": [],
   "source": [
    "dm = UnpairedDataModule()\n",
    "dm.setup()"
   ]
  },
  {
   "cell_type": "code",
   "execution_count": 7,
   "metadata": {},
   "outputs": [],
   "source": [
    "data = next(iter(dm.train_dataloader()))"
   ]
  },
  {
   "cell_type": "code",
   "execution_count": 9,
   "metadata": {},
   "outputs": [
    {
     "data": {
      "text/plain": [
       "torch.Size([4, 3, 256, 256])"
      ]
     },
     "execution_count": 9,
     "metadata": {},
     "output_type": "execute_result"
    }
   ],
   "source": [
    "data['A'].shape"
   ]
  },
  {
   "cell_type": "code",
   "execution_count": 19,
   "metadata": {},
   "outputs": [],
   "source": [
    "self.netG_A = networks.define_G(3, 3, opt.ngf, 'resnet_9blocks', 'instance',\n",
    "                                not opt.no_dropout, opt.init_type, opt.init_gain, self.gpu_ids)\n",
    "self.netG_B = networks.define_G(opt.output_nc, opt.input_nc, opt.ngf, opt.netG, opt.norm,\n",
    "                                not opt.no_dropout, opt.init_type, opt.init_gain, self.gpu_ids)"
   ]
  },
  {
   "cell_type": "code",
   "execution_count": null,
   "metadata": {},
   "outputs": [],
   "source": []
  },
  {
   "cell_type": "code",
   "execution_count": null,
   "metadata": {},
   "outputs": [],
   "source": [
    "class CycleGAN(pl.LightningModule):\n",
    "    def __init__(self):\n",
    "        super().__init__()\n",
    "\n",
    "    def training_step(self, batch, batch_idx):\n",
    "        raise NotImplementedError\n",
    "\n",
    "    def validation_step(self, batch, batch_idx):\n",
    "        raise NotImplementedError\n",
    "\n",
    "    def test_step(self, batch, batch_idx):\n",
    "        raise NotImplementedError\n",
    "\n",
    "    def predict_step(self, batch, batch_idx):\n",
    "        raise NotImplementedError\n",
    "\n",
    "    def shared_step(self, batch):\n",
    "        raise NotImplementedError\n",
    "\n"
   ]
  }
 ],
 "metadata": {
  "interpreter": {
   "hash": "afb0178283dd4e957112d06a742b919dd70897ec7dfba33670c0b530c28dd0ad"
  },
  "kernelspec": {
   "display_name": "Python 3.8.5 64-bit ('cyclegan': virtualenv)",
   "name": "python3"
  },
  "language_info": {
   "codemirror_mode": {
    "name": "ipython",
    "version": 3
   },
   "file_extension": ".py",
   "mimetype": "text/x-python",
   "name": "python",
   "nbconvert_exporter": "python",
   "pygments_lexer": "ipython3",
   "version": "3.8.5"
  },
  "orig_nbformat": 4
 },
 "nbformat": 4,
 "nbformat_minor": 2
}
